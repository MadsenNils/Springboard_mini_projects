{
 "cells": [
  {
   "cell_type": "markdown",
   "metadata": {},
   "source": [
    "# What is the True Normal Human Body Temperature? \n",
    "\n",
    "#### Background\n",
    "\n",
    "The mean normal body temperature was held to be 37$^{\\circ}$C or 98.6$^{\\circ}$F for more than 120 years since it was first conceptualized and reported by Carl Wunderlich in a famous 1868 book. But, is this value statistically correct?"
   ]
  },
  {
   "cell_type": "markdown",
   "metadata": {},
   "source": [
    "<h3>Exercises</h3>\n",
    "\n",
    "<p>In this exercise, you will analyze a dataset of human body temperatures and employ the concepts of hypothesis testing, confidence intervals, and statistical significance.</p>\n",
    "\n",
    "<p>Answer the following questions <b>in this notebook below and submit to your Github account</b>.</p> \n",
    "\n",
    "<ol>\n",
    "<li>  Is the distribution of body temperatures normal? \n",
    "    <ul>\n",
    "    <li> Although this is not a requirement for the Central Limit Theorem to hold (read the introduction on Wikipedia's page about the CLT carefully: https://en.wikipedia.org/wiki/Central_limit_theorem), it gives us some peace of mind that the population may also be normally distributed if we assume that this sample is representative of the population.\n",
    "    <li> Think about the way you're going to check for the normality of the distribution. Graphical methods are usually used first, but there are also other ways: https://en.wikipedia.org/wiki/Normality_test\n",
    "    </ul>\n",
    "<li>  Is the sample size large? Are the observations independent?\n",
    "    <ul>\n",
    "    <li> Remember that this is a condition for the Central Limit Theorem, and hence the statistical tests we are using, to apply.\n",
    "    </ul>\n",
    "<li>  Is the true population mean really 98.6 degrees F?\n",
    "    <ul>\n",
    "    <li> First, try a bootstrap hypothesis test.\n",
    "    <li> Now, let's try frequentist statistical testing. Would you use a one-sample or two-sample test? Why?\n",
    "    <li> In this situation, is it appropriate to use the $t$ or $z$ statistic? \n",
    "    <li> Now try using the other test. How is the result be different? Why?\n",
    "    </ul>\n",
    "<li>  Draw a small sample of size 10 from the data and repeat both frequentist tests. \n",
    "    <ul>\n",
    "    <li> Which one is the correct one to use? \n",
    "    <li> What do you notice? What does this tell you about the difference in application of the $t$ and $z$ statistic?\n",
    "    </ul>\n",
    "<li>  At what temperature should we consider someone's temperature to be \"abnormal\"?\n",
    "    <ul>\n",
    "    <li> As in the previous example, try calculating everything using the boostrap approach, as well as the frequentist approach.\n",
    "    <li> Start by computing the margin of error and confidence interval. When calculating the confidence interval, keep in mind that you should use the appropriate formula for one draw, and not N draws.\n",
    "    </ul>\n",
    "<li>  Is there a significant difference between males and females in normal temperature?\n",
    "    <ul>\n",
    "    <li> What testing approach did you use and why?\n",
    "    <li> Write a story with your conclusion in the context of the original problem.\n",
    "    </ul>\n",
    "</ol>\n",
    "\n",
    "You can include written notes in notebook cells using Markdown: \n",
    "   - In the control panel at the top, choose Cell > Cell Type > Markdown\n",
    "   - Markdown syntax: http://nestacms.com/docs/creating-content/markdown-cheat-sheet\n",
    "\n",
    "#### Resources\n",
    "\n",
    "+ Information and data sources: http://www.amstat.org/publications/jse/datasets/normtemp.txt, http://www.amstat.org/publications/jse/jse_data_archive.htm\n",
    "+ Markdown syntax: http://nestacms.com/docs/creating-content/markdown-cheat-sheet\n",
    "\n",
    "****"
   ]
  },
  {
   "cell_type": "code",
   "execution_count": 1,
   "metadata": {},
   "outputs": [],
   "source": [
    "import pandas as pd\n",
    "import numpy as np\n",
    "import matplotlib.pyplot as plt\n",
    "import seaborn as sns\n",
    "import scipy.stats as stats\n",
    "\n",
    "df = pd.read_csv('human_body_temperature.csv')"
   ]
  },
  {
   "cell_type": "code",
   "execution_count": 2,
   "metadata": {},
   "outputs": [
    {
     "name": "stdout",
     "output_type": "stream",
     "text": [
      "<class 'pandas.core.frame.DataFrame'>\n",
      "RangeIndex: 130 entries, 0 to 129\n",
      "Data columns (total 3 columns):\n",
      "temperature    130 non-null float64\n",
      "gender         130 non-null object\n",
      "heart_rate     130 non-null float64\n",
      "dtypes: float64(2), object(1)\n",
      "memory usage: 3.1+ KB\n",
      "None\n"
     ]
    },
    {
     "data": {
      "text/html": [
       "<div>\n",
       "<style scoped>\n",
       "    .dataframe tbody tr th:only-of-type {\n",
       "        vertical-align: middle;\n",
       "    }\n",
       "\n",
       "    .dataframe tbody tr th {\n",
       "        vertical-align: top;\n",
       "    }\n",
       "\n",
       "    .dataframe thead th {\n",
       "        text-align: right;\n",
       "    }\n",
       "</style>\n",
       "<table border=\"1\" class=\"dataframe\">\n",
       "  <thead>\n",
       "    <tr style=\"text-align: right;\">\n",
       "      <th></th>\n",
       "      <th>temperature</th>\n",
       "      <th>gender</th>\n",
       "      <th>heart_rate</th>\n",
       "    </tr>\n",
       "  </thead>\n",
       "  <tbody>\n",
       "    <tr>\n",
       "      <th>0</th>\n",
       "      <td>99.3</td>\n",
       "      <td>F</td>\n",
       "      <td>68.0</td>\n",
       "    </tr>\n",
       "    <tr>\n",
       "      <th>1</th>\n",
       "      <td>98.4</td>\n",
       "      <td>F</td>\n",
       "      <td>81.0</td>\n",
       "    </tr>\n",
       "    <tr>\n",
       "      <th>2</th>\n",
       "      <td>97.8</td>\n",
       "      <td>M</td>\n",
       "      <td>73.0</td>\n",
       "    </tr>\n",
       "    <tr>\n",
       "      <th>3</th>\n",
       "      <td>99.2</td>\n",
       "      <td>F</td>\n",
       "      <td>66.0</td>\n",
       "    </tr>\n",
       "    <tr>\n",
       "      <th>4</th>\n",
       "      <td>98.0</td>\n",
       "      <td>F</td>\n",
       "      <td>73.0</td>\n",
       "    </tr>\n",
       "  </tbody>\n",
       "</table>\n",
       "</div>"
      ],
      "text/plain": [
       "   temperature gender  heart_rate\n",
       "0         99.3      F        68.0\n",
       "1         98.4      F        81.0\n",
       "2         97.8      M        73.0\n",
       "3         99.2      F        66.0\n",
       "4         98.0      F        73.0"
      ]
     },
     "execution_count": 2,
     "metadata": {},
     "output_type": "execute_result"
    }
   ],
   "source": [
    "#inspect data set\n",
    "print(df.info())\n",
    "df.head()"
   ]
  },
  {
   "cell_type": "code",
   "execution_count": 3,
   "metadata": {},
   "outputs": [],
   "source": [
    "def ecdf(data):\n",
    "    ''' Calculate the empirical cumulative distribution function of a single measure. '''\n",
    "    n = len(data)\n",
    "    x = np.sort(data)\n",
    "    y = np.arange(1, n+1) / n\n",
    "\n",
    "    return (x, y)"
   ]
  },
  {
   "cell_type": "markdown",
   "metadata": {},
   "source": [
    "___\n",
    "## Question 1\n",
    "*Is the distribution of body temperature normal?*\n",
    "\n",
    "First, I will use a graphical approach to compare the cumulative density function (CDF) of the empirical data to the spread of CDFs for samples drawn from the normal distribution.\n",
    "___"
   ]
  },
  {
   "cell_type": "code",
   "execution_count": 4,
   "metadata": {},
   "outputs": [
    {
     "data": {
      "image/png": "[encoded data removed]",
      "text/plain": [
       "<matplotlib.figure.Figure at 0x24643991be0>"
      ]
     },
     "metadata": {},
     "output_type": "display_data"
    }
   ],
   "source": [
    "#compute descriptive stats to draw normal samples\n",
    "temp_mean = df.temperature.mean()\n",
    "temp_std = df.temperature.std()\n",
    "n_obs = len(df.temperature)\n",
    "\n",
    "sns.set()\n",
    "\n",
    "# draw 100 samples from the normal distribution to compare to empirical cdf, and plot them\n",
    "for i in range(100):\n",
    "    temp_normal_sample = np.random.normal(temp_mean, temp_std, size=n_obs)\n",
    "    temp_normal_cdf = ecdf(temp_normal_sample)\n",
    "    plt.plot(temp_normal_cdf[0], temp_normal_cdf[1], marker='.', linestyle='none', color='red', alpha=0.01)\n",
    "\n",
    "# plot empirical cdf\n",
    "temperature_ecdf = ecdf(df.temperature)\n",
    "plt.plot(temperature_ecdf[0], temperature_ecdf[1], marker='.', linestyle='none', color='blue', alpha=0.5)\n",
    "plt.xlabel('Body temperature (F)')\n",
    "plt.ylabel('CDF')\n",
    "plt.show()"
   ]
  },
  {
   "cell_type": "markdown",
   "metadata": {},
   "source": [
    "___\n",
    "The empirical CDF tracks within the range of normal samples, suggesting that the distribution is normal.\n",
    "___"
   ]
  },
  {
   "cell_type": "code",
   "execution_count": 5,
   "metadata": {},
   "outputs": [
    {
     "name": "stdout",
     "output_type": "stream",
     "text": [
      "W statistic:  0.9865769743919373 \n",
      "p-value:  0.2331680953502655\n"
     ]
    }
   ],
   "source": [
    "# perform Shapiro-Wilk test for normality\n",
    "shapiro_w, shapiro_p = stats.shapiro(df.temperature)\n",
    "print('W statistic: ', shapiro_w, '\\np-value: ', shapiro_p)"
   ]
  },
  {
   "cell_type": "markdown",
   "metadata": {},
   "source": [
    "___\n",
    "The result of the Shapiro-Wilk test also suggests that the null hypothesis that the temperature data are normally distributed cannot be rejected.\n",
    "___"
   ]
  },
  {
   "cell_type": "markdown",
   "metadata": {},
   "source": [
    "___\n",
    "## Question 2\n",
    "\n",
    "*Is the sample size large enough?*\n",
    "\n",
    "The sample size of 130 is larger than the standard n >= 30 rule-of-thumb, so this should be enough observations for the Central Limit Theorem to apply.\n",
    "\n",
    "*Are the observations independent?*\n",
    "\n",
    "Each of the observations is from a different person, so independence can be assumed.\n",
    "___"
   ]
  },
  {
   "cell_type": "markdown",
   "metadata": {},
   "source": [
    "___\n",
    "## Question 3\n",
    "\n",
    "*Is the true population mean really 98.6 degrees F?* \n",
    "\n",
    "The null hypothesis here is that the true population mean is 98.6 degrees F. Therefore, for bootstrap testing, samples will be drawn from a mean-adjusted version of the empirical data set. Then, a p-value will be calculated for the empirical mean.\n",
    "___"
   ]
  },
  {
   "cell_type": "code",
   "execution_count": 6,
   "metadata": {},
   "outputs": [
    {
     "name": "stdout",
     "output_type": "stream",
     "text": [
      "empirical mean:  98.24923076923078\n",
      "p-value:  0.0\n"
     ]
    }
   ],
   "source": [
    "# adjust the mean of the data to 98.6\n",
    "empirical_mean = df.temperature.mean()\n",
    "print('empirical mean: ', empirical_mean)\n",
    "temps_mean_adjusted = df['temperature'] - empirical_mean + 98.6\n",
    "\n",
    "# initialize numpy array for 10,000 replications\n",
    "n_reps = 10000\n",
    "bs_mean_reps = np.empty(n_reps)\n",
    "\n",
    "# run 10,000 bootstrap mean replications\n",
    "for i in range(n_reps):\n",
    "    bs_mean_reps[i] = temps_mean_adjusted.sample(n=n_obs, replace=True).mean()\n",
    "\n",
    "bootstrap_mean_p = np.sum(bs_mean_reps <= empirical_mean) / len(bs_mean_reps)\n",
    "print('p-value: ', bootstrap_mean_p)"
   ]
  },
  {
   "cell_type": "markdown",
   "metadata": {},
   "source": [
    "___\n",
    "A p-value of 0 means that none of the 10,000 bootstrap samples had a mean at or below the empirical mean. This indicates a true p-value below 0.0001, which is sufficient to reject the null hypothesis that the true population mean is 98.6 degrees F.\n",
    "\n",
    "With regard to frequentist hypothesis testing, a one-sample test is appropriate here, since only one of the comparison groups has full sample data. For Carl Wunderlich's data, only the mean is available. The t-score is also more appropriate than the z-score, because two means are being compared. A z-score also requires the population standard deviation, which is unavailable.\n",
    "___"
   ]
  },
  {
   "cell_type": "code",
   "execution_count": 7,
   "metadata": {},
   "outputs": [
    {
     "name": "stdout",
     "output_type": "stream",
     "text": [
      "t-score:  -5.4548232923645195 \n",
      "p-value:  2.4106320415561276e-07\n"
     ]
    }
   ],
   "source": [
    "# perform one-sample t-test\n",
    "t_score, ttest_p = stats.ttest_1samp(df.temperature, 98.6)\n",
    "\n",
    "print('t-score: ', t_score, '\\np-value: ', ttest_p)"
   ]
  },
  {
   "cell_type": "markdown",
   "metadata": {},
   "source": [
    "___\n",
    "The t-test returns a very small p-value, sufficient to reject the null hypothesis that the means are the same. \n",
    "___"
   ]
  },
  {
   "cell_type": "code",
   "execution_count": 8,
   "metadata": {},
   "outputs": [
    {
     "name": "stdout",
     "output_type": "stream",
     "text": [
      "z-score:  0.4784196512470687 \n",
      "p-value:  0.6838242251694571\n"
     ]
    }
   ],
   "source": [
    "# calculate the z-score for a temperature of 98.6, using the sample standard deviation\n",
    "z_score = (98.6 - df.temperature.mean())/df.temperature.std()\n",
    "zscore_p = stats.norm.cdf(z_score)\n",
    "\n",
    "print('z-score: ', z_score, '\\np-value: ', zscore_p)\n"
   ]
  },
  {
   "cell_type": "markdown",
   "metadata": {},
   "source": [
    "___\n",
    "The z-score returns a large p-value. However, this is not necessarily meaningful, as z-score is not a test for comparing means.\n",
    "___"
   ]
  },
  {
   "cell_type": "markdown",
   "metadata": {},
   "source": [
    "## Question 4"
   ]
  },
  {
   "cell_type": "code",
   "execution_count": 9,
   "metadata": {},
   "outputs": [
    {
     "name": "stdout",
     "output_type": "stream",
     "text": [
      "t-score:  0.29983347209375677 \n",
      "p-value:  0.7711136719592668\n",
      "z-score:  -0.09481566905728062 \n",
      "p-value:  0.46223062041806995\n"
     ]
    }
   ],
   "source": [
    "# repeat frequentist tests on a sample of size 10\n",
    "df_small_samp = df.sample(n=10, replace=True)\n",
    "\n",
    "t_score, ttest_p = stats.ttest_1samp(df_small_samp.temperature, 98.6)\n",
    "print('t-score: ', t_score, '\\np-value: ', ttest_p)\n",
    "\n",
    "z_score = (98.6 - df_small_samp.temperature.mean())/df_small_samp.temperature.std()\n",
    "zscore_p = stats.norm.cdf(z_score)\n",
    "print('z-score: ', z_score, '\\np-value: ', zscore_p)"
   ]
  },
  {
   "cell_type": "markdown",
   "metadata": {},
   "source": [
    "___\n",
    "A t-test is more appropriate here as well, for the same reasons as before. However, the small sample size means the t-score is now not statistically significant.\n",
    "___"
   ]
  },
  {
   "cell_type": "markdown",
   "metadata": {},
   "source": [
    "___\n",
    "## Question 5 \n",
    "At what temperature should we consider someone's temperature to be \"abnormal\"? \n",
    "___"
   ]
  },
  {
   "cell_type": "code",
   "execution_count": null,
   "metadata": {},
   "outputs": [],
   "source": []
  }
 ],
 "metadata": {
  "kernelspec": {
   "display_name": "Python 3",
   "language": "python",
   "name": "python3"
  },
  "language_info": {
   "codemirror_mode": {
    "name": "ipython",
    "version": 3
   },
   "file_extension": ".py",
   "mimetype": "text/x-python",
   "name": "python",
   "nbconvert_exporter": "python",
   "pygments_lexer": "ipython3",
   "version": "3.6.4"
  }
 },
 "nbformat": 4,
 "nbformat_minor": 1
}
