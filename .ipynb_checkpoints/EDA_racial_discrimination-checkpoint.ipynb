{
 "cells": [
  {
   "cell_type": "markdown",
   "metadata": {},
   "source": [
    "# Examining Racial Discrimination in the US Job Market\n",
    "\n",
    "### Background\n",
    "Racial discrimination continues to be pervasive in cultures throughout the world. Researchers examined the level of racial discrimination in the United States labor market by randomly assigning identical résumés to black-sounding or white-sounding names and observing the impact on requests for interviews from employers.\n",
    "\n",
    "### Data\n",
    "In the dataset provided, each row represents a resume. The 'race' column has two values, 'b' and 'w', indicating black-sounding and white-sounding. The column 'call' has two values, 1 and 0, indicating whether the resume received a call from employers or not.\n",
    "\n",
    "Note that the 'b' and 'w' values in race are assigned randomly to the resumes when presented to the employer."
   ]
  },
  {
   "cell_type": "markdown",
   "metadata": {},
   "source": [
    "### Exercises\n",
    "You will perform a statistical analysis to establish whether race has a significant impact on the rate of callbacks for resumes.\n",
    "\n",
    "Answer the following questions **in this notebook below and submit to your Github account**. \n",
    "\n",
    "   1. What test is appropriate for this problem? Does CLT apply?\n",
    "   2. What are the null and alternate hypotheses?\n",
    "   3. Compute margin of error, confidence interval, and p-value. Try using both the bootstrapping and the frequentist statistical approaches.\n",
    "   4. Write a story describing the statistical significance in the context or the original problem.\n",
    "   5. Does your analysis mean that race/name is the most important factor in callback success? Why or why not? If not, how would you amend your analysis?\n",
    "\n",
    "You can include written notes in notebook cells using Markdown: \n",
    "   - In the control panel at the top, choose Cell > Cell Type > Markdown\n",
    "   - Markdown syntax: http://nestacms.com/docs/creating-content/markdown-cheat-sheet\n",
    "\n",
    "\n",
    "#### Resources\n",
    "+ Experiment information and data source: http://www.povertyactionlab.org/evaluation/discrimination-job-market-united-states\n",
    "+ Scipy statistical methods: http://docs.scipy.org/doc/scipy/reference/stats.html \n",
    "+ Markdown syntax: http://nestacms.com/docs/creating-content/markdown-cheat-sheet\n",
    "+ Formulas for the Bernoulli distribution: https://en.wikipedia.org/wiki/Bernoulli_distribution"
   ]
  },
  {
   "cell_type": "code",
   "execution_count": 1,
   "metadata": {},
   "outputs": [],
   "source": [
    "import pandas as pd\n",
    "import numpy as np\n",
    "from scipy import stats"
   ]
  },
  {
   "cell_type": "code",
   "execution_count": 2,
   "metadata": {},
   "outputs": [],
   "source": [
    "data = pd.io.stata.read_stata('data/us_job_market_discrimination.dta')"
   ]
  },
  {
   "cell_type": "code",
   "execution_count": 3,
   "metadata": {},
   "outputs": [
    {
     "name": "stdout",
     "output_type": "stream",
     "text": [
      "2200.0 235.0 2278.0 157.0\n"
     ]
    }
   ],
   "source": [
    "# determine the number of successes and failures in both white and black groups\n",
    "w = data[data.race=='w']\n",
    "b = data[data.race=='b']\n",
    "\n",
    "white_success = w.call.sum()\n",
    "white_fail = w.call.count() - white_success\n",
    "\n",
    "black_success = b.call.sum()\n",
    "black_fail = b.call.count() - black_success\n",
    "\n",
    "print(white_fail, white_success, black_fail, black_success)"
   ]
  },
  {
   "cell_type": "markdown",
   "metadata": {
    "collapsed": true
   },
   "source": [
    "___\n",
    "The appropriate test here is a two-sample z-test to compare the proportion of callbacks in the black-name and white-name groups. \n",
    "\n",
    "The central limit theorem requires a large enough sample size, and independence of observations. As shown in the cell above, there are more than 10 successes and 10 failures for both the black and white group, so the sample size is large enough. The samples can also be assumed to be independent because the response to one resume should not be affected by the responses to any of the other resumes.\n",
    "\n",
    "The null hypothesis is that resumes with white-sounding and black-sounding names have the same callback rate (the difference of means is equal to 0), while the alternative hypothesis is that the callback rates for the two kinds of resumes are different (the difference of means is not equal to 0).\n",
    "___"
   ]
  },
  {
   "cell_type": "code",
   "execution_count": 5,
   "metadata": {},
   "outputs": [
    {
     "name": "stdout",
     "output_type": "stream",
     "text": [
      "white callback rate:  0.09650924056768417 \n",
      "black callback rate:  0.0644763857126236\n"
     ]
    }
   ],
   "source": [
    "# view callback rates for the two groups\n",
    "w_call_rate = w.call.mean()\n",
    "b_call_rate = b.call.mean()\n",
    "\n",
    "print('white callback rate: ',w_call_rate, '\\nblack callback rate: ', b_call_rate)"
   ]
  },
  {
   "cell_type": "code",
   "execution_count": 6,
   "metadata": {},
   "outputs": [
    {
     "name": "stdout",
     "output_type": "stream",
     "text": [
      "Z-test for proportions:\n",
      "z-statistic:  4.108412152434346\n",
      "p-value:  3.983886837585077e-05\n",
      "95% confidence interval:  [0.01677772882804784, 0.04728798088207331]\n",
      "margin of error:  0.015255126027012735\n"
     ]
    }
   ],
   "source": [
    "# perform z-test for proportions\n",
    "from statsmodels.stats.proportion import proportions_ztest\n",
    "\n",
    "successes = [white_success, black_success]\n",
    "nobs = [len(w.call), len(b.call)]\n",
    "\n",
    "zstat, p_value = proportions_ztest(successes, nobs, value=0)\n",
    "\n",
    "print('Z-test for proportions:')\n",
    "print('z-statistic: ', zstat)\n",
    "print('p-value: ', p_value)\n",
    "\n",
    "# compute 95% confidence interval using z-score\n",
    "w_var = w_call_rate * (1-w_call_rate)/len(w.call)\n",
    "b_var = b_call_rate * (1-b_call_rate)/len(b.call)\n",
    "\n",
    "sem_diff = (w_var + b_var)**0.5 #standard error for the difference between call rates\n",
    "mean_diff = w_call_rate - b_call_rate\n",
    "zscore = stats.norm.ppf(0.975)\n",
    "conf_int_z = [mean_diff - zscore * sem_diff, mean_diff + zscore * sem_diff]\n",
    "moe_z = (conf_int_z[1] - conf_int_z[0])/2\n",
    "\n",
    "print('95% confidence interval: ', conf_int_z)\n",
    "print('margin of error: ', moe_z)"
   ]
  },
  {
   "cell_type": "code",
   "execution_count": 7,
   "metadata": {},
   "outputs": [],
   "source": [
    "# perform bootstrap sampling to compare proportions\n",
    "# convert callback data to fit assumption that the two groups have the same callback rate\n",
    "w_convert = w[['race', 'call']].copy()\n",
    "b_convert = b[['race', 'call']].copy()\n",
    "\n",
    "w_convert.call = w_convert.call - mean_diff/2\n",
    "b_convert.call = b_convert.call + mean_diff/2\n",
    "\n",
    "data_convert = pd.concat([w_convert, b_convert])\n",
    "n_obs = len(data_convert.call)\n",
    "\n",
    "n_samps = 10000\n",
    "mean_diffs_bs = np.empty(n_samps)\n",
    "\n",
    "for i in range(n_samps):\n",
    "    bs_sample = data_convert.sample(n=n_obs, replace=True)\n",
    "    w_sample = bs_sample[bs_sample.race == 'w']\n",
    "    b_sample = bs_sample[bs_sample.race == 'b']\n",
    "    \n",
    "    mean_diffs_bs[i] = w_sample.call.mean() - b_sample.call.mean()"
   ]
  },
  {
   "cell_type": "code",
   "execution_count": 8,
   "metadata": {},
   "outputs": [
    {
     "name": "stdout",
     "output_type": "stream",
     "text": [
      "Bootstrap sampling approach:\n",
      "95% confidence interval:  [0.01706241 0.04723236]\n",
      "margin of error:  0.01508497549220919\n",
      "p-value:  0.0\n"
     ]
    }
   ],
   "source": [
    "p_value = np.sum(mean_diffs_bs[mean_diffs_bs >= mean_diff])/len(mean_diffs_bs)\n",
    "\n",
    "conf_int_bs = np.percentile(mean_diffs_bs, [2.5, 97.5]) + mean_diff\n",
    "moe_bs = (conf_int_bs[1] - conf_int_bs[0])/2\n",
    "\n",
    "print('Bootstrap sampling approach:')\n",
    "print('95% confidence interval: ', conf_int_bs)\n",
    "print('margin of error: ', moe_bs)\n",
    "print('p-value: ', p_value)"
   ]
  },
  {
   "cell_type": "markdown",
   "metadata": {},
   "source": [
    "___\n",
    "Bootstrap sampling and z-testing for proportions agree that we can discard the null hypothesis, with both returning a p-value < 0.0001.\n",
    "___"
   ]
  },
  {
   "cell_type": "markdown",
   "metadata": {},
   "source": [
    "## Story\n",
    "This statistical analysis shows that the callback rate is different for resumes with black-sounding names compared to those with white-sounding names. The callback rates seen in this data suggest that whites find greater success in getting responses from resume submissions, even when resumes are identical. This is strong evidence for the existence of racial discrimination in the hiring process.\n",
    "\n",
    "We cannot conclude from this analysis, however, that race is the most important factor in getting responses from potential employers, or even that it is one of the most important. This analysis only sought to determine whether race had a statistically-significant impact. In order to determine the relative importance of race to other aspects of the resumes, we would have to determine which other fields in the dataset have a significant impact on callback rate, and compare the effect size of race to the effect sizes of those fields."
   ]
  },
  {
   "cell_type": "code",
   "execution_count": null,
   "metadata": {},
   "outputs": [],
   "source": []
  }
 ],
 "metadata": {
  "kernelspec": {
   "display_name": "Python 3",
   "language": "python",
   "name": "python3"
  },
  "language_info": {
   "codemirror_mode": {
    "name": "ipython",
    "version": 3
   },
   "file_extension": ".py",
   "mimetype": "text/x-python",
   "name": "python",
   "nbconvert_exporter": "python",
   "pygments_lexer": "ipython3",
   "version": "3.6.4"
  }
 },
 "nbformat": 4,
 "nbformat_minor": 1
}
